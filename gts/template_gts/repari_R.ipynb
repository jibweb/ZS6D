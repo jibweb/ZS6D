{
 "cells": [
  {
   "cell_type": "code",
   "execution_count": 15,
   "metadata": {},
   "outputs": [],
   "source": [
    "import os\n",
    "import json\n",
    "import numpy as np\n",
    "\n",
    "for filename in os.listdir(\".\"):\n",
    "    if filename.endswith(\"json\") and filename != \"linemod_template_gt.json\":\n",
    "        with open(filename,\"r\") as f:\n",
    "            gt_template = json.load(f)\n",
    "            \n",
    "        \n",
    "        for key in gt_template.keys():\n",
    "            for obj_id in range(len(gt_template[key])):\n",
    "                tmp_R = np.array(gt_template[key][obj_id][\"cam_R_m2c\"]).reshape(3,3)*1000\n",
    "                gt_template[key][obj_id][\"cam_R_m2c\"] = tmp_R.tolist()\n",
    "        \n",
    "        \n",
    "        \n",
    "        with open(filename,\"w\") as f:\n",
    "             json.dump(gt_template, f)"
   ]
  },
  {
   "cell_type": "code",
   "execution_count": 1,
   "metadata": {},
   "outputs": [],
   "source": [
    "import json\n",
    "\n",
    "lmo_file = \"linemod_template_gt.json\"\n",
    "with open(lmo_file,\"r\") as f:\n",
    "    lmo_gt = json.load(f)\n",
    "\n",
    "ycbv_file = \"ycbv_template_gt.json\"\n",
    "with open(ycbv_file,\"r\") as f:\n",
    "    ycbv_gt = json.load(f)\n",
    "    \n"
   ]
  },
  {
   "cell_type": "code",
   "execution_count": 13,
   "metadata": {},
   "outputs": [
    {
     "name": "stdout",
     "output_type": "stream",
     "text": [
      "dict_keys(['lamp', 'duck', 'driller', 'phone', 'eggbox', 'holepuncher', 'can', 'ape', 'cam', 'iron', 'cat', 'benchvise', 'glue'])\n",
      "{'img_id': '0', 'img_name': './templates/linemod/test/lamp/000000.png', 'mask_name': './templates/linemod/test/lamp/mask_000000.png', 'obj_id': 14, 'bbox_obj': [231, 72, 203, 380], 'cam_R_m2c': [[-0.23873246299757991, -0.9710853778690672, 0.0], [-0.11395658634881299, 0.0280151850227083, -0.9930906533825947], [0.9643758123982759, -0.23708297766190276, -0.11734970883701012]], 'cam_t_m2c': [0.0, 0.0, 400.0], 'model_path': './models/obj_000014.ply', 'model_info': {'diameter': 282.601, 'min_x': -101.573, 'min_y': -58.8763, 'min_z': -106.558, 'size_x': 203.146, 'size_y': 117.753, 'size_z': 213.116}, 'cam_K': [572.4114, 0.0, 325.2611, 0.0, 573.57043, 242.04899, 0.0, 0.0, 1.0], 'img_crop': './templates/linemod_desc/test/lamp/000000.png', 'img_desc': './templates/linemod_desc/test/lamp/000000.npy', 'obj_name': 'lamp', 'uv_crop': './templates/linemod_desc/test/lamp/000000_uv.npy'}\n"
     ]
    },
    {
     "ename": "KeyError",
     "evalue": "14",
     "output_type": "error",
     "traceback": [
      "\u001b[0;31m---------------------------------------------------------------------------\u001b[0m",
      "\u001b[0;31mKeyError\u001b[0m                                  Traceback (most recent call last)",
      "Cell \u001b[0;32mIn[13], line 10\u001b[0m\n\u001b[1;32m      7\u001b[0m \u001b[38;5;28;01mfor\u001b[39;00m object_name \u001b[38;5;129;01min\u001b[39;00m lmo_gt\u001b[38;5;241m.\u001b[39mkeys():\n\u001b[1;32m      8\u001b[0m     new_lmo_gt[\u001b[38;5;28mstr\u001b[39m(lmo_gt[object_name][\u001b[38;5;241m0\u001b[39m][\u001b[38;5;124m'\u001b[39m\u001b[38;5;124mobj_id\u001b[39m\u001b[38;5;124m'\u001b[39m])] \u001b[38;5;241m=\u001b[39m lmo_gt[object_name]\n\u001b[0;32m---> 10\u001b[0m     \u001b[38;5;28;01mfor\u001b[39;00m i \u001b[38;5;129;01min\u001b[39;00m \u001b[38;5;28mrange\u001b[39m(\u001b[38;5;28mlen\u001b[39m(\u001b[43mnew_lmo_gt\u001b[49m\u001b[43m[\u001b[49m\u001b[43mlmo_gt\u001b[49m\u001b[43m[\u001b[49m\u001b[43mobject_name\u001b[49m\u001b[43m]\u001b[49m\u001b[43m[\u001b[49m\u001b[38;5;241;43m0\u001b[39;49m\u001b[43m]\u001b[49m\u001b[43m[\u001b[49m\u001b[38;5;124;43m'\u001b[39;49m\u001b[38;5;124;43mobj_id\u001b[39;49m\u001b[38;5;124;43m'\u001b[39;49m\u001b[43m]\u001b[49m\u001b[43m]\u001b[49m)):\n\u001b[1;32m     11\u001b[0m         new_lmo_gt[lmo_gt[object_name][\u001b[38;5;241m0\u001b[39m][\u001b[38;5;124m'\u001b[39m\u001b[38;5;124mobj_id\u001b[39m\u001b[38;5;124m'\u001b[39m]][i][\u001b[38;5;124m'\u001b[39m\u001b[38;5;124mobj_name\u001b[39m\u001b[38;5;124m'\u001b[39m] \u001b[38;5;241m=\u001b[39m object_name\n\u001b[1;32m     12\u001b[0m         new_lmo_gt[lmo_gt[object_name][\u001b[38;5;241m0\u001b[39m][\u001b[38;5;124m'\u001b[39m\u001b[38;5;124mobj_id\u001b[39m\u001b[38;5;124m'\u001b[39m]][i][\u001b[38;5;124m'\u001b[39m\u001b[38;5;124muv_crop\u001b[39m\u001b[38;5;124m'\u001b[39m] \u001b[38;5;241m=\u001b[39m \u001b[38;5;124mf\u001b[39m\u001b[38;5;124m\"\u001b[39m\u001b[38;5;132;01m{\u001b[39;00mnew_lmo_gt[lmo_gt[object_name][\u001b[38;5;241m0\u001b[39m][\u001b[38;5;124m'\u001b[39m\u001b[38;5;124mobj_id\u001b[39m\u001b[38;5;124m'\u001b[39m]][i][\u001b[38;5;124m'\u001b[39m\u001b[38;5;124mimg_crop\u001b[39m\u001b[38;5;124m'\u001b[39m]\u001b[38;5;241m.\u001b[39msplit(\u001b[38;5;124m'\u001b[39m\u001b[38;5;124m.png\u001b[39m\u001b[38;5;124m'\u001b[39m)[\u001b[38;5;241m0\u001b[39m]\u001b[38;5;132;01m}\u001b[39;00m\u001b[38;5;124m_uv.npy\u001b[39m\u001b[38;5;124m\"\u001b[39m\n",
      "\u001b[0;31mKeyError\u001b[0m: 14"
     ]
    }
   ],
   "source": [
    "print(lmo_gt.keys())\n",
    "\n",
    "new_lmo_gt = {}\n",
    "\n",
    "print(lmo_gt['lamp'][0])\n",
    "\n",
    "for object_name in lmo_gt.keys():\n",
    "    obj_id = str(lmo_gt[object_name][0]['obj_id'])\n",
    "    new_lmo_gt[obj_id] = lmo_gt[object_name]\n",
    "    \n",
    "    for i in range(len(new_lmo_gt[obj_id])):\n",
    "        new_lmo_gt[obj_id][i]['object_name'] = object_name\n",
    "        new_lmo_gt[obj_id][i]['uv_crop'] = f\"{new_lmo_gt[obj_id][i]['img_crop'].split('.png')[0]}_uv.npy\""
   ]
  },
  {
   "cell_type": "code",
   "execution_count": 11,
   "metadata": {},
   "outputs": [
    {
     "name": "stdout",
     "output_type": "stream",
     "text": [
      "dict_keys([14, 9, 8, 15, 10, 12, 5, 1, 4, 13, 6, 2, 11])\n"
     ]
    },
    {
     "data": {
      "text/plain": [
       "{'img_id': '0',\n",
       " 'img_name': './templates/linemod/test/lamp/000000.png',\n",
       " 'mask_name': './templates/linemod/test/lamp/mask_000000.png',\n",
       " 'obj_id': 14,\n",
       " 'bbox_obj': [231, 72, 203, 380],\n",
       " 'cam_R_m2c': [[-0.23873246299757991, -0.9710853778690672, 0.0],\n",
       "  [-0.11395658634881299, 0.0280151850227083, -0.9930906533825947],\n",
       "  [0.9643758123982759, -0.23708297766190276, -0.11734970883701012]],\n",
       " 'cam_t_m2c': [0.0, 0.0, 400.0],\n",
       " 'model_path': './models/obj_000014.ply',\n",
       " 'model_info': {'diameter': 282.601,\n",
       "  'min_x': -101.573,\n",
       "  'min_y': -58.8763,\n",
       "  'min_z': -106.558,\n",
       "  'size_x': 203.146,\n",
       "  'size_y': 117.753,\n",
       "  'size_z': 213.116},\n",
       " 'cam_K': [572.4114, 0.0, 325.2611, 0.0, 573.57043, 242.04899, 0.0, 0.0, 1.0],\n",
       " 'img_crop': './templates/linemod_desc/test/lamp/000000.png',\n",
       " 'img_desc': './templates/linemod_desc/test/lamp/000000.npy',\n",
       " 'obj_name': 'lamp',\n",
       " 'uv_crop': './templates/linemod_desc/test/lamp/000000_uv.npy'}"
      ]
     },
     "execution_count": 11,
     "metadata": {},
     "output_type": "execute_result"
    }
   ],
   "source": [
    "print(new_lmo_gt.keys())\n",
    "\n",
    "new_lmo_gt[14][0]"
   ]
  },
  {
   "cell_type": "code",
   "execution_count": null,
   "metadata": {},
   "outputs": [],
   "source": []
  },
  {
   "cell_type": "code",
   "execution_count": 6,
   "metadata": {},
   "outputs": [
    {
     "name": "stdout",
     "output_type": "stream",
     "text": [
      "dict_keys(['10', '11', '18', '21', '15', '8', '20', '4', '12', '1', '7', '6', '5', '17', '13', '3', '16', '14', '2', '19', '9'])\n"
     ]
    },
    {
     "data": {
      "text/plain": [
       "{'img_id': '0',\n",
       " 'img_name': './templates/ycbv/obj_1/000000.png',\n",
       " 'mask_name': './templates/ycbv/obj_1/mask_000000.png',\n",
       " 'obj_id': '1',\n",
       " 'bbox_obj': [259, 164, 109, 156],\n",
       " 'cam_R_m2c': [[0.9876883218070596, -0.15643458366344215, 0.0],\n",
       "  [0.0, 0.0, -1.0],\n",
       "  [0.15643458366344215, 0.9876883218070596, 0.0]],\n",
       " 'cam_t_m2c': [-0.0, -0.0, 0.9999999809522048],\n",
       " 'model_path': './templates/ycbv/models/obj_000001.ply',\n",
       " 'model_info': {'diameter': 172.063,\n",
       "  'min_x': -51.1445,\n",
       "  'min_y': -51.223,\n",
       "  'min_z': -70.072,\n",
       "  'size_x': 102.289,\n",
       "  'size_y': 102.446,\n",
       "  'size_z': 140.144,\n",
       "  'symmetries_discrete': [[-1,\n",
       "    -4.31991e-14,\n",
       "    0,\n",
       "    0,\n",
       "    4.31991e-14,\n",
       "    -1,\n",
       "    0,\n",
       "    0,\n",
       "    0,\n",
       "    0,\n",
       "    1,\n",
       "    0,\n",
       "    0,\n",
       "    0,\n",
       "    0,\n",
       "    1]]},\n",
       " 'cam_K': [[1066.778, 0.0, 312.9869],\n",
       "  [0.0, 1067.487, 241.3109],\n",
       "  [0.0, 0.0, 1.0]],\n",
       " 'img_crop': './templates/ycbv_desc/obj_1/000000.png',\n",
       " 'img_desc': './templates/ycbv_desc/obj_1/000000.npy',\n",
       " 'uv_crop': './templates/ycbv_desc/obj_1/000000_uv.npy'}"
      ]
     },
     "execution_count": 6,
     "metadata": {},
     "output_type": "execute_result"
    }
   ],
   "source": [
    "print(ycbv_gt.keys())\n",
    "\n",
    "ycbv_gt['1'][0]\n"
   ]
  }
 ],
 "metadata": {
  "kernelspec": {
   "display_name": "zs6d",
   "language": "python",
   "name": "python3"
  },
  "language_info": {
   "codemirror_mode": {
    "name": "ipython",
    "version": 3
   },
   "file_extension": ".py",
   "mimetype": "text/x-python",
   "name": "python",
   "nbconvert_exporter": "python",
   "pygments_lexer": "ipython3",
   "version": "3.9.18"
  }
 },
 "nbformat": 4,
 "nbformat_minor": 2
}
